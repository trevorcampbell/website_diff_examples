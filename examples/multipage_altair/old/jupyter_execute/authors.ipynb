{
 "cells": [
  {
   "cell_type": "markdown",
   "id": "704a82eb",
   "metadata": {},
   "source": [
    "# About the authors\n",
    "\n",
    "The original version of this textbook was developed by Tiffany Timbers, Trevor\n",
    "Campbell, and Melissa Lee for the R programming language. The content of the R\n",
    "textbook was adapted to Python by Trevor Campbell, Joel Ostblom, and Lindsey\n",
    "Heagy.\n",
    "\n",
    "**[Tiffany Timbers](https://www.tiffanytimbers.com/)** is an Associate Professor of Teaching in the Department of\n",
    "Statistics and Co-Director for the Master of Data Science program (Vancouver\n",
    "Option) at the University of British Columbia. In these roles she teaches and\n",
    "develops curriculum around the responsible application of Data Science to solve\n",
    "real-world problems. One of her favorite courses she teaches is a graduate\n",
    "course on collaborative software development, which focuses on teaching how to\n",
    "create R and Python packages using modern tools and workflows."
   ]
  },
  {
   "cell_type": "markdown",
   "id": "285be878",
   "metadata": {},
   "source": [
    "**[Trevor Campbell](https://trevorcampbell.me/)** is an Associate Professor in the Department of Statistics at\n",
    "the University of British Columbia. His research focuses on automated, scalable\n",
    "Bayesian inference algorithms, Bayesian nonparametrics, streaming data, and\n",
    "Bayesian theory. He was previously a postdoctoral associate advised by Tamara\n",
    "Broderick in the Computer Science and Artificial Intelligence Laboratory\n",
    "(CSAIL) and Institute for Data, Systems, and Society (IDSS) at MIT, a Ph.D.\n",
    "candidate under Jonathan How in the Laboratory for Information and Decision\n",
    "Systems (LIDS) at MIT, and before that he was in the Engineering Science\n",
    "program at the University of Toronto."
   ]
  },
  {
   "cell_type": "markdown",
   "id": "074fee7e",
   "metadata": {},
   "source": [
    "**[Melissa Lee](https://www.stat.ubc.ca/users/melissa-lee)** is an Assistant Professor of Teaching in the Department of\n",
    "Statistics at the University of British Columbia. She teaches and develops\n",
    "curriculum for undergraduate statistics and data science courses. Her work\n",
    "focuses on student-centered approaches to teaching, developing and assessing\n",
    "open educational resources, and promoting equity, diversity, and inclusion\n",
    "initiatives."
   ]
  },
  {
   "cell_type": "markdown",
   "id": "81eab54d",
   "metadata": {},
   "source": [
    "**[Joel Ostblom](https://joelostblom.com/)** is an Assistant Professor of Teaching in the Department of\n",
    "Statistics at the University of British Columbia.\n",
    "During his PhD, Joel developed a passion for data science and reproducibility\n",
    "through the development of quantitative image analysis pipelines for studying\n",
    "stem cell and developmental biology. He has since co-created or lead the\n",
    "development of several courses and workshops at the University of Toronto and\n",
    "is now an assistant professor of teaching in the statistics department at the\n",
    "University of British Columbia. Joel cares deeply about spreading data literacy\n",
    "and excitement over programmatic data analysis, which is reflected in his\n",
    "contributions to open source projects and data science learning resources."
   ]
  },
  {
   "cell_type": "markdown",
   "id": "609d5dc1",
   "metadata": {},
   "source": [
    "**[Lindsey Heagy](https://lindseyjh.ca/)** is an Assistant Professor in the Department of Earth, Ocean, and Atmospheric\n",
    "Sciences and director of the Geophysical Inversion Facility at the University of British Columbia.\n",
    "Her research combines computational methods in numerical simulations, inversions, and machine\n",
    "learning to answer questions about the subsurface of the Earth. Primary applications include\n",
    "mineral exploration, carbon sequestration, groundwater and environmental studies. She\n",
    "completed her BSc at the University of Alberta, her PhD at the University of British Columbia,\n",
    "and held a Postdoctoral research position at the University of California Berkeley prior to\n",
    "starting her current position at UBC."
   ]
  }
 ],
 "metadata": {
  "jupytext": {
   "cell_metadata_filter": "-all",
   "formats": "py:percent,md:myst,ipynb",
   "text_representation": {
    "extension": ".md",
    "format_name": "myst",
    "format_version": 0.13,
    "jupytext_version": "1.13.8"
   }
  },
  "kernelspec": {
   "display_name": "Python 3 (ipykernel)",
   "language": "python",
   "name": "python3"
  },
  "source_map": [
   14,
   31,
   43,
   52,
   65
  ]
 },
 "nbformat": 4,
 "nbformat_minor": 5
}