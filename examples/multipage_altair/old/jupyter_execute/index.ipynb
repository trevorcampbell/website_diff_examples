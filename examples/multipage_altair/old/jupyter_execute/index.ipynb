{
 "cells": [
  {
   "cell_type": "markdown",
   "id": "f267022d",
   "metadata": {},
   "source": [
    "![](img/frontmatter/ds-a-first-intro-graphic.jpg)\n",
    "\n",
    "# Data Science\n",
    "\n",
    "## *A First Introduction (Python Edition)*\n",
    "\n",
    "*Tiffany Timbers, Trevor Campbell, Melissa Lee, Joel Ostblom, Lindsey Heagy*\n",
    "\n",
    "### Welcome!\n",
    "\n",
    "This is the [website](https://python.datasciencebook.ca) for *Data Science: A First Introduction (Python Edition)*.\n",
    "You can read the web version of the book on this site. Click a section in the table of contents\n",
    "on the left side of the page to navigate to it. If you are on a mobile device,\n",
    "you may need to open the table of contents first by clicking the menu button on\n",
    "the top left of the page.\n",
    "\n",
    "For the R version of the textbook, please visit https://datasciencebook.ca.\n",
    "\n",
    "<img src=\"https://i.creativecommons.org/l/by-nc-sa/4.0/88x31.png\">\n",
    "\n",
    "This work by [Tiffany Timbers](https://www.tiffanytimbers.com/),\n",
    "[Trevor Campbell](https://trevorcampbell.me/),\n",
    "[Melissa Lee](https://www.stat.ubc.ca/users/melissa-lee),\n",
    "[Joel Ostblom](https://joelostblom.com/),\n",
    "and [Lindsey Heagy](https://lindseyjh.ca/)\n",
    "is licensed under\n",
    "a [Creative Commons Attribution-NonCommercial-ShareAlike 4.0 International License](http://creativecommons.org/licenses/by-nc-sa/4.0/)."
   ]
  }
 ],
 "metadata": {
  "jupytext": {
   "cell_metadata_filter": "-all",
   "formats": "py:percent,md:myst,ipynb",
   "text_representation": {
    "extension": ".md",
    "format_name": "myst",
    "format_version": 0.13,
    "jupytext_version": "1.13.8"
   }
  },
  "kernelspec": {
   "display_name": "Python 3 (ipykernel)",
   "language": "python",
   "name": "python3"
  },
  "source_map": [
   14
  ]
 },
 "nbformat": 4,
 "nbformat_minor": 5
}