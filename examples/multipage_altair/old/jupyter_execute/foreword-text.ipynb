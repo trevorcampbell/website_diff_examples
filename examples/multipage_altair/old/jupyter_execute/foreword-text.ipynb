{
 "cells": [
  {
   "cell_type": "markdown",
   "id": "a2d64ced",
   "metadata": {},
   "source": [
    "# Foreword\n",
    "\n",
    "*Roger D. Peng*\n",
    "\n",
    "*Johns Hopkins Bloomberg School of Public Health*\n",
    "\n",
    "*2023-11-30*\n",
    "\n",
    "The field of data science has expanded and grown significantly in recent years, \n",
    "attracting excitement and interest from many different directions. The demand for introductory\n",
    "educational materials has grown concurrently with the growth of the field itself, leading to\n",
    "a proliferation of textbooks, courses, blog posts, and tutorials. This book is an important\n",
    "contribution to this fast-growing literature, but given the wide availability of materials, a\n",
    "reader should be inclined to ask, \"What is the unique contribution of *this* book?\" In order\n",
    "to answer that question it is useful to step back for a moment and consider the development\n",
    "of the field of data science over the past few years.\n",
    "\n",
    "When thinking about data science, it is important to consider two questions: \"What is\n",
    "data science?\" and \"How should one do data science?\" The former question is under active\n",
    "discussion amongst a broad community of researchers and practitioners and there does\n",
    "not appear to be much consensus to date. However, there seems a general understanding\n",
    "that data science focuses on the more \"active\" elements&mdash;data wrangling, cleaning, and\n",
    "analysis&mdash;of answering questions with data. These elements are often highly\n",
    "problem-specific and may seem difficult to generalize across applications. Nevertheless, over time we\n",
    "have seen some core elements emerge that appear to repeat themselves as useful concepts\n",
    "across different problems. Given the lack of clear agreement over the definition of data\n",
    "science, there is a strong need for a book like this one to propose a vision for what the field\n",
    "is and what the implications are for the activities in which members of the field engage.\n",
    "\n",
    "The first important concept addressed by this book is tidy data, which is a format for\n",
    "tabular data formally introduced to the statistical community in a 2014 paper by Hadley\n",
    "Wickham. Although originally popularized within the R programming language community\n",
    "via the Tidyverse package collection, the tidy data format is a language-independent concept\n",
    "that facilitates the application of powerful generalized data cleaning and wrangling tools.\n",
    "The second key concept is the development of workflows\n",
    "for reproducible and auditable data analyses. Modern data analyses have only grown in\n",
    "complexity due to the availability of data and the ease with which we can implement complex\n",
    "data analysis procedures. Furthermore, these data analyses are often part of \n",
    "decision-making processes that may have significant impacts on people and communities. Therefore,\n",
    "there is a critical need to build reproducible analyses that can be studied and repeated by\n",
    "others in a reliable manner. Statistical methods clearly represent an important element\n",
    "of data science for building prediction and classification models and for making inferences\n",
    "about unobserved populations. Finally, because a field can succeed only if it fosters an\n",
    "active and collaborative community, it has become clear that being fluent in the tools of\n",
    "collaboration is a core element of data science.\n",
    "\n",
    "This book takes these core concepts and focuses on how one can apply them to *do* data\n",
    "science in a rigorous manner. Students who learn from this book will be well-versed in\n",
    "the techniques and principles behind producing reliable evidence from data. This book is\n",
    "centered around the implementation of the tidy data framework within the Python programming language,\n",
    "and as such employs the most recent advances in data analysis coding. The use of Jupyter\n",
    "notebooks for exercises immediately places the student in an environment that encourages\n",
    "auditability and reproducibility of analyses. The integration of git and GitHub into the\n",
    "course is a key tool for teaching about collaboration and community, key concepts that are\n",
    "critical to data science.\n",
    "\n",
    "The demand for training in data science continues to increase. The availability of large\n",
    "quantities of data to answer a variety of questions, the computational power available to\n",
    "many more people than ever before, and the public awareness of the importance of data for\n",
    "decision-making have all contributed to the need for high-quality data science work. This\n",
    "book provides a sophisticated first introduction to the field of data science and provides\n",
    "a balanced mix of practical skills along with generalizable principles. As we continue to\n",
    "introduce students to data science and train them to confront an expanding array of data\n",
    "science problems, they will be well-served by the ideas presented here."
   ]
  }
 ],
 "metadata": {
  "jupytext": {
   "cell_metadata_filter": "-all",
   "formats": "py:percent,md:myst,ipynb",
   "text_representation": {
    "extension": ".md",
    "format_name": "myst",
    "format_version": 0.13,
    "jupytext_version": "1.13.8"
   }
  },
  "kernelspec": {
   "display_name": "Python 3 (ipykernel)",
   "language": "python",
   "name": "python3"
  },
  "source_map": [
   14
  ]
 },
 "nbformat": 4,
 "nbformat_minor": 5
}