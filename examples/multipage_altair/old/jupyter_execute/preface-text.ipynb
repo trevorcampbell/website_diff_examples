{
 "cells": [
  {
   "cell_type": "markdown",
   "id": "901b2026",
   "metadata": {},
   "source": [
    "# Preface\n",
    "\n",
    "```{index} data science; definition, auditable, reproducible\n",
    "```\n",
    "\n",
    "This textbook aims to be an approachable introduction to the world of data science.\n",
    "In this book, we define **data science** as the process of generating\n",
    "insight from data through **reproducible** and **auditable** processes.\n",
    "If you analyze some data and give your analysis to a friend or colleague, they should\n",
    "be able to re-run the analysis from start to finish and get the same result you did (*reproducibility*).\n",
    "They should also be able to see and understand all the steps in the analysis, as well as the history of how\n",
    "the analysis developed (*auditability*). Creating reproducible and auditable\n",
    "analyses allows both you and others to easily double-check and validate your work.\n",
    "\n",
    "At a high level, in this book, you will learn how to\n",
    "\n",
    "1. identify common problems in data science, and\n",
    "2. solve those problems with reproducible and auditable workflows.\n",
    "\n",
    "{numref}`preface-overview-fig` summarizes what you will learn in each chapter\n",
    "of this book. Throughout, you will learn how to use the [Python programming language](https://www.python.org/) to perform\n",
    "all the tasks associated with data analysis. You will\n",
    "spend the first four chapters learning how to use Python to load, clean, wrangle\n",
    "(i.e., restructure the data into a usable format) and visualize data\n",
    "while answering descriptive and exploratory data analysis questions. In the next\n",
    "six chapters, you will learn how to answer predictive, exploratory, and inferential\n",
    "data analysis questions with common methods in data science, including\n",
    "classification, regression, clustering, and estimation.\n",
    "In the final chapters\n",
    "you will learn how to combine Python code, formatted text, and images\n",
    "in a single coherent document with Jupyter, use version control for\n",
    "collaboration, and install and configure the software needed for data science\n",
    "on your own computer. If you are reading this book as part of a course that you are\n",
    "taking, the instructor may have set up all of these tools already for you; in this\n",
    "case, you can continue on through the book reading the chapters in order.\n",
    "But if you are reading this independently, you may want to jump to these last three chapters\n",
    "early before going on to make sure your computer is set up in such a way that you can\n",
    "try out the example code that we include throughout the book.\n",
    "\n",
    "```{figure} img/frontmatter/chapter_overview.png\n",
    "---\n",
    "name: preface-overview-fig\n",
    "---\n",
    "Where are we going?\n",
    "```\n",
    "\n",
    "\n",
    "\n",
    "Each chapter in the book has an accompanying worksheet that provides exercises\n",
    "to help you practice the concepts you will learn. We strongly recommend that you\n",
    "work through the worksheet when you finish reading each chapter\n",
    "before moving on to the next chapter. All of the worksheets\n",
    "are available at\n",
    "[https://worksheets.python.datasciencebook.ca](https://worksheets.python.datasciencebook.ca);\n",
    "the \"Exercises\" section at the end of each chapter points you to the right worksheet for that chapter.\n",
    "For each worksheet, you can either launch an interactive version of the worksheet in your browser by clicking the \"launch binder\" button,\n",
    "or preview a non-interactive version of the worksheet by clicking \"view worksheet.\"\n",
    "If you instead decide to download the worksheet and run it on your own machine,\n",
    "make sure to follow the instructions for computer setup\n",
    "found in {numref}`Chapter %s <move-to-your-own-machine>`. This will ensure that the automated feedback\n",
    "and guidance that the worksheets provide will function as intended."
   ]
  }
 ],
 "metadata": {
  "jupytext": {
   "cell_metadata_filter": "-all",
   "formats": "md:myst,ipynb",
   "text_representation": {
    "extension": ".md",
    "format_name": "myst",
    "format_version": 0.13,
    "jupytext_version": "1.13.8"
   }
  },
  "kernelspec": {
   "display_name": "Python 3 (ipykernel)",
   "language": "python",
   "name": "python3"
  },
  "source_map": [
   14
  ]
 },
 "nbformat": 4,
 "nbformat_minor": 5
}